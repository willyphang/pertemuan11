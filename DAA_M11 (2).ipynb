{
  "nbformat": 4,
  "nbformat_minor": 0,
  "metadata": {
    "colab": {
      "provenance": []
    },
    "kernelspec": {
      "name": "python3",
      "display_name": "Python 3"
    },
    "language_info": {
      "name": "python"
    }
  },
  "cells": [
    {
      "cell_type": "code",
      "execution_count": 101,
      "metadata": {
        "colab": {
          "base_uri": "https://localhost:8080/"
        },
        "id": "mByFlN3dhEzc",
        "outputId": "a249957c-e012-4ba9-b93c-26f3f06f1bd6"
      },
      "outputs": [
        {
          "output_type": "stream",
          "name": "stdout",
          "text": [
            "{'a': ['b', 'c'], 'b': ['a', 'd'], 'c': ['a', 'd'], 'd': ['e'], 'e': ['d']}\n"
          ]
        }
      ],
      "source": [
        "# Create dictionary with graph element\n",
        "'''\n",
        "a-----b\n",
        "|     |\n",
        "|     |\n",
        "c-----d----e\n",
        "'''\n",
        "\n",
        "graphn = {\"a\" : [\"b\", \"c\"],\n",
        "         \"b\" : [\"a\", \"d\"],\n",
        "         \"c\" : [\"a\", \"d\"],\n",
        "         \"d\" : [\"e\"],\n",
        "         \"e\" : [\"d\"]\n",
        "          }\n",
        "\n",
        "print(graphn)"
      ]
    },
    {
      "cell_type": "code",
      "source": [
        "# Latihan\n",
        "'''\n",
        "T-------U-------V\n",
        "|               |\n",
        "W---------------X\n",
        "|               |\n",
        "Z               S\n",
        "'''\n",
        "\n",
        "graph1 = {\"T\" : [\"U\", \"W\"],\n",
        "          \"U\" : [\"V\"],\n",
        "          \"V\" : [\"U\", \"X\"],\n",
        "          \"W\" : [\"X\", \"Z\"],\n",
        "          \"X\" : [\"S\", \"W\"],\n",
        "          \"Z\" : [\"W\"],\n",
        "          \"S\" : [\"X\"]\n",
        "          }\n",
        "\n",
        "print(graph1)"
      ],
      "metadata": {
        "colab": {
          "base_uri": "https://localhost:8080/"
        },
        "id": "mr0bY19arvAN",
        "outputId": "ff094a6e-89d2-4216-8241-8ffadc3eb859"
      },
      "execution_count": 102,
      "outputs": [
        {
          "output_type": "stream",
          "name": "stdout",
          "text": [
            "{'T': ['U', 'W'], 'U': ['V'], 'V': ['U', 'X'], 'W': ['X', 'Z'], 'X': ['S', 'W'], 'Z': ['W'], 'S': ['X']}\n"
          ]
        }
      ]
    },
    {
      "cell_type": "code",
      "source": [
        "# Latihan\n",
        "'''\n",
        "r-------o-------m\n",
        "|       |       |\n",
        "l-------p-------n\n",
        "'''\n",
        "\n",
        "graph2 = {\"r\" : [\"o\", \"l\"],\n",
        "          \"o\" : [\"m\", \"p\"],\n",
        "          \"m\" : [\"o\", \"n\"],\n",
        "          \"l\" : [\"r\", \"p\"],\n",
        "          \"p\" : [\"o\", \"n\"],\n",
        "          \"n\" : [\"p\", \"m\"]\n",
        "           }\n",
        "\n",
        "print(graph2)"
      ],
      "metadata": {
        "colab": {
          "base_uri": "https://localhost:8080/"
        },
        "id": "2rDN193EwcVm",
        "outputId": "bd5b51e4-fe9f-48ca-eee6-1f450cb7e08e"
      },
      "execution_count": 103,
      "outputs": [
        {
          "output_type": "stream",
          "name": "stdout",
          "text": [
            "{'r': ['o', 'l'], 'o': ['m', 'p'], 'm': ['o', 'n'], 'l': ['r', 'p'], 'p': ['o', 'n'], 'n': ['p', 'm']}\n"
          ]
        }
      ]
    },
    {
      "cell_type": "code",
      "source": [
        "# Menampilkan simpul pada graph\n",
        "class Graph:\n",
        "  def __init__(self, gdict=None):\n",
        "    if gdict is None:\n",
        "      gdict = {}\n",
        "    self.gdict = gdict\n",
        "\n",
        "  # Get the keys of the dictionary\n",
        "  def getVertices(self):\n",
        "    return list(self.gdict.keys())\n",
        "\n",
        "# Create dictionary with graph elements\n",
        "graph_elements = graphn\n",
        "\n",
        "# Create an instance of the Graph class and pass the graph_elements\n",
        "g = Graph(graph_elements)\n",
        "\n",
        "# Print the vertices by calling the getVertices method wth parentheses\n",
        "print(g.getVertices())"
      ],
      "metadata": {
        "colab": {
          "base_uri": "https://localhost:8080/"
        },
        "id": "05Hdsp_mxa88",
        "outputId": "bfd8bbf8-2045-4096-9d1e-f7db66520ceb"
      },
      "execution_count": 104,
      "outputs": [
        {
          "output_type": "stream",
          "name": "stdout",
          "text": [
            "['a', 'b', 'c', 'd', 'e']\n"
          ]
        }
      ]
    },
    {
      "cell_type": "code",
      "source": [
        "# Latihan\n",
        "# Menampilkan elemen simpul graph TUV\n",
        "graph_elements = graph1\n",
        "g = Graph(graph_elements)\n",
        "print(g.getVertices())"
      ],
      "metadata": {
        "colab": {
          "base_uri": "https://localhost:8080/"
        },
        "id": "AfthaMlDyXYP",
        "outputId": "cb9c9aa2-56e8-4fa2-e496-ec10d79f88cc"
      },
      "execution_count": 105,
      "outputs": [
        {
          "output_type": "stream",
          "name": "stdout",
          "text": [
            "['T', 'U', 'V', 'W', 'X', 'Z', 'S']\n"
          ]
        }
      ]
    },
    {
      "cell_type": "code",
      "source": [
        "# Latihan\n",
        "# Menampilkan elemen simpul graph rom\n",
        "graph_elements = graph2\n",
        "g = Graph(graph_elements)\n",
        "print(g.getVertices())"
      ],
      "metadata": {
        "colab": {
          "base_uri": "https://localhost:8080/"
        },
        "id": "TLXQc7xm0WGf",
        "outputId": "19addf10-027e-4c6f-8e7f-5455880b5491"
      },
      "execution_count": 106,
      "outputs": [
        {
          "output_type": "stream",
          "name": "stdout",
          "text": [
            "['r', 'o', 'm', 'l', 'p', 'n']\n"
          ]
        }
      ]
    },
    {
      "cell_type": "code",
      "source": [
        "# Menampilkan sudut pada graph\n",
        "class graph:\n",
        "  def __init__(self,gdict=None):\n",
        "    if gdict is None:\n",
        "      gdict = {}\n",
        "    self.gdict = gdict\n",
        "\n",
        "  def edges(self):\n",
        "    return self.findedges()\n",
        "\n",
        "  #find the distinc list of edges\n",
        "  def findedges(self):\n",
        "    edgename = []\n",
        "    for vrtx in self.gdict:\n",
        "      for nxtvrtx in self.gdict[vrtx]:\n",
        "        if {nxtvrtx, vrtx} not in edgename:\n",
        "          edgename.append({vrtx, nxtvrtx})\n",
        "    return edgename\n",
        "# create the dictionary with graph elements\n",
        "graph_elements = graphn\n",
        "g = graph(graph_elements)\n",
        "print(g.edges())"
      ],
      "metadata": {
        "colab": {
          "base_uri": "https://localhost:8080/"
        },
        "id": "jziCGFel0xF9",
        "outputId": "71b3c1b4-290e-4edc-fcf1-42ddb074b021"
      },
      "execution_count": 107,
      "outputs": [
        {
          "output_type": "stream",
          "name": "stdout",
          "text": [
            "[{'a', 'b'}, {'c', 'a'}, {'b', 'd'}, {'c', 'd'}, {'e', 'd'}]\n"
          ]
        }
      ]
    },
    {
      "cell_type": "code",
      "source": [
        "# Latihan\n",
        "# Tampilkan edge pada graph TUV\n",
        "graph_elements = graph1\n",
        "g = graph(graph_elements)\n",
        "print(g.edges())"
      ],
      "metadata": {
        "colab": {
          "base_uri": "https://localhost:8080/"
        },
        "id": "KTzpXCvf00ZL",
        "outputId": "d387fb99-7ef3-40b1-dbf2-413bf9030215"
      },
      "execution_count": 108,
      "outputs": [
        {
          "output_type": "stream",
          "name": "stdout",
          "text": [
            "[{'T', 'U'}, {'T', 'W'}, {'V', 'U'}, {'X', 'V'}, {'W', 'X'}, {'W', 'Z'}, {'S', 'X'}]\n"
          ]
        }
      ]
    },
    {
      "cell_type": "code",
      "source": [
        "# Latihan\n",
        "# Tampilkan edge pada graph rom\n",
        "graph_elements = graph1\n",
        "g = graph(graph_elements)\n",
        "print(g.edges())"
      ],
      "metadata": {
        "colab": {
          "base_uri": "https://localhost:8080/"
        },
        "id": "bUzBwyvv399d",
        "outputId": "65a66bfc-e913-452e-a9d2-ff9934b1c98a"
      },
      "execution_count": 109,
      "outputs": [
        {
          "output_type": "stream",
          "name": "stdout",
          "text": [
            "[{'T', 'U'}, {'T', 'W'}, {'V', 'U'}, {'X', 'V'}, {'W', 'X'}, {'W', 'Z'}, {'S', 'X'}]\n"
          ]
        }
      ]
    },
    {
      "cell_type": "code",
      "source": [
        "# Menambah vertex/simpul\n",
        "class graph:\n",
        "  def __init__(self, gdict=None):\n",
        "    if gdict is None:\n",
        "      gdict = {}\n",
        "    self.gdict = gdict\n",
        "\n",
        "  def getVertices(self):\n",
        "    return list(self.gdict.keys())\n",
        "\n",
        "  # Add the vertex as a key\n",
        "  def addVertex(self, vrtx):\n",
        "    if vrtx not in self.gdict:\n",
        "      self.gdict[vrtx] = []\n",
        "\n",
        "# Create the dictionary with graph elements\n",
        "graph_elements = graphn\n",
        "g = graph(graph_elements)\n",
        "g.addVertex(\"f\")\n",
        "print(g.getVertices())"
      ],
      "metadata": {
        "colab": {
          "base_uri": "https://localhost:8080/"
        },
        "id": "hlo0HuZv5V0M",
        "outputId": "e226c81b-c8bd-47bc-fea4-3a18d0ad37c8"
      },
      "execution_count": 110,
      "outputs": [
        {
          "output_type": "stream",
          "name": "stdout",
          "text": [
            "['a', 'b', 'c', 'd', 'e', 'f']\n"
          ]
        }
      ]
    },
    {
      "cell_type": "code",
      "source": [
        "# Latihan\n",
        "# Tambah simpul R pada graph TUV\n",
        "graph_elements = graph1\n",
        "g = graph(graph_elements)\n",
        "g.addVertex(\"R\")\n",
        "print(g.getVertices())"
      ],
      "metadata": {
        "colab": {
          "base_uri": "https://localhost:8080/"
        },
        "id": "hRDsfezV6hLV",
        "outputId": "65d005d4-f981-4686-aab4-75110da47a57"
      },
      "execution_count": 111,
      "outputs": [
        {
          "output_type": "stream",
          "name": "stdout",
          "text": [
            "['T', 'U', 'V', 'W', 'X', 'Z', 'S', 'R']\n"
          ]
        }
      ]
    },
    {
      "cell_type": "code",
      "source": [
        "# Latihan\n",
        "# Tambah simpul K dan J pada graph rom\n",
        "graph_elements = graph2\n",
        "g = graph(graph_elements)\n",
        "g.addVertex(\"K\")\n",
        "g.addVertex(\"J\")\n",
        "print(g.getVertices())"
      ],
      "metadata": {
        "colab": {
          "base_uri": "https://localhost:8080/"
        },
        "id": "suZJtIDj6rbo",
        "outputId": "0b6d5532-4987-4c76-e2cc-ee8607be90b1"
      },
      "execution_count": 112,
      "outputs": [
        {
          "output_type": "stream",
          "name": "stdout",
          "text": [
            "['r', 'o', 'm', 'l', 'p', 'n', 'K', 'J']\n"
          ]
        }
      ]
    },
    {
      "cell_type": "code",
      "source": [
        "class graph:\n",
        "  def __init__(self,gdict=None):\n",
        "    if gdict is None:\n",
        "      gdict = {}\n",
        "    self.gdict = gdict\n",
        "\n",
        "  def edges(self):\n",
        "    return self.findedges()\n",
        "\n",
        "  def AddEdge(self, edge):\n",
        "    edge = set(edge)\n",
        "    (vrtx1, vrtx2) = tuple(edge)\n",
        "    if vrtx1 in self.gdict:\n",
        "      self.gdict[vrtx1].append(vrtx2)\n",
        "    else:\n",
        "      self.gdict[vrtx1] = [vrtx2]\n",
        "\n",
        "  def findedges(self):\n",
        "    edgename = []\n",
        "    for vrtx in self.gdict:\n",
        "      for nxtvrtx in self.gdict[vrtx]:\n",
        "        if {nxtvrtx, vrtx} not in edgename:\n",
        "          edgename.append({vrtx, nxtvrtx})\n",
        "    return edgename\n",
        "\n",
        "# Create the dictionary with graph elements\n",
        "graph_elements = graphn\n",
        "g = graph(graph_elements)\n",
        "g.AddEdge({\"b\", \"f\"})\n",
        "g.AddEdge({\"e\", \"f\"})\n",
        "print(g.edges())"
      ],
      "metadata": {
        "colab": {
          "base_uri": "https://localhost:8080/"
        },
        "id": "zH6iHXm_7U7P",
        "outputId": "b3572b02-ab19-4941-9c9d-2335c8be7645"
      },
      "execution_count": 113,
      "outputs": [
        {
          "output_type": "stream",
          "name": "stdout",
          "text": [
            "[{'a', 'b'}, {'c', 'a'}, {'b', 'd'}, {'c', 'd'}, {'e', 'd'}, {'e', 'f'}, {'f', 'b'}]\n"
          ]
        }
      ]
    },
    {
      "cell_type": "code",
      "source": [
        "# Latihan\n",
        "# Tambah sudut Z ke R, sudut S ke R pada edge TUV\n",
        "graph_elements = graph1\n",
        "g = graph(graph_elements)\n",
        "g.AddEdge({\"Z\", \"R\"})\n",
        "g.AddEdge({\"S\", \"R\"})\n",
        "print(g.edges())"
      ],
      "metadata": {
        "colab": {
          "base_uri": "https://localhost:8080/"
        },
        "id": "TUQ3GnIR8geB",
        "outputId": "e69e62bb-e645-4bf4-e394-390c0cb546ec"
      },
      "execution_count": 114,
      "outputs": [
        {
          "output_type": "stream",
          "name": "stdout",
          "text": [
            "[{'T', 'U'}, {'T', 'W'}, {'V', 'U'}, {'X', 'V'}, {'W', 'X'}, {'W', 'Z'}, {'S', 'X'}, {'R', 'Z'}, {'S', 'R'}]\n"
          ]
        }
      ]
    },
    {
      "cell_type": "code",
      "source": [
        "# Latihan\n",
        "# Tambah sudut l ke K dan n ke J pada edge rom\n",
        "graph_elements = graph2\n",
        "g = graph(graph_elements)\n",
        "g.AddEdge({\"l\", \"K\"})\n",
        "g.AddEdge({\"n\", \"J\"})\n",
        "print(g.edges())"
      ],
      "metadata": {
        "colab": {
          "base_uri": "https://localhost:8080/"
        },
        "id": "2w3zPF9H9n7k",
        "outputId": "a3ca5ff1-fba9-4d9d-a710-9436c6d18270"
      },
      "execution_count": 116,
      "outputs": [
        {
          "output_type": "stream",
          "name": "stdout",
          "text": [
            "[{'r', 'o'}, {'r', 'l'}, {'m', 'o'}, {'o', 'p'}, {'m', 'n'}, {'p', 'l'}, {'n', 'p'}, {'n', 'J'}, {'K', 'l'}]\n"
          ]
        }
      ]
    }
  ]
}